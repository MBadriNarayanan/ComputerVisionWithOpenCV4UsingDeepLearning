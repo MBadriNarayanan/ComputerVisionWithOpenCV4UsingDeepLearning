{
 "cells": [
  {
   "cell_type": "code",
   "execution_count": 1,
   "metadata": {},
   "outputs": [],
   "source": [
    "import numpy as np\n",
    "\n",
    "import cv2"
   ]
  },
  {
   "cell_type": "markdown",
   "metadata": {},
   "source": [
    "## Lucas-Kanade Optical Flow in OpenCV"
   ]
  },
  {
   "cell_type": "code",
   "execution_count": 2,
   "metadata": {},
   "outputs": [],
   "source": [
    "cap = cv2.VideoCapture('./Section9Images/Walking.avi')\n",
    "\n",
    "feature_params = dict(maxCorners = 100, qualityLevel = 0.3, minDistance = 7, blockSize = 7 )\n",
    "\n",
    "lucas_kanade_params = dict( winSize  = (15,15), maxLevel = 2, criteria = (cv2.TERM_CRITERIA_EPS | cv2.TERM_CRITERIA_COUNT, 10, 0.03))\n",
    "\n",
    "color = np.random.randint(0,255,(100,3))\n",
    "\n",
    "ret, prev_frame = cap.read()\n",
    "\n",
    "prev_gray = cv2.cvtColor(prev_frame, cv2.COLOR_BGR2GRAY)\n",
    "\n",
    "prev_corners = cv2.goodFeaturesToTrack(prev_gray, mask = None, **feature_params)\n",
    "\n",
    "mask = np.zeros_like(prev_frame)"
   ]
  },
  {
   "cell_type": "code",
   "execution_count": 3,
   "metadata": {},
   "outputs": [],
   "source": [
    "while(1) :\n",
    "    \n",
    "    ret, frame = cap.read()\n",
    "    \n",
    "    frame_gray = cv2.cvtColor(frame, cv2.COLOR_BGR2GRAY)\n",
    "\n",
    "    new_corners, status, errors = cv2.calcOpticalFlowPyrLK(prev_gray,frame_gray, prev_corners,None,**lucas_kanade_params)\n",
    "    \n",
    "    good_new = new_corners[status==1]\n",
    "    \n",
    "    good_old = prev_corners[status==1]\n",
    "\n",
    "    for i,(new,old) in enumerate(zip(good_new, good_old)) :\n",
    "        \n",
    "        a, b = new.ravel()\n",
    "        \n",
    "        c, d = old.ravel()\n",
    "        \n",
    "        mask = cv2.line(mask, (a,b),(c,d), color[i].tolist(), 2)\n",
    "        \n",
    "        frame = cv2.circle(frame, (a,b), 5, color[i].tolist(),-1)\n",
    "        \n",
    "    img = cv2.add(frame,mask)\n",
    "\n",
    "    cv2.imshow('Optical Flow - Lucas-Kanade',img)\n",
    "    \n",
    "    if cv2.waitKey(1) == 13 :\n",
    "        \n",
    "        break\n",
    "\n",
    "    prev_gray = frame_gray.copy()\n",
    "    \n",
    "    prev_corners = good_new.reshape(-1,1,2)\n",
    "\n",
    "cv2.destroyAllWindows()\n",
    "\n",
    "cap.release()"
   ]
  },
  {
   "cell_type": "markdown",
   "metadata": {},
   "source": [
    "## Dense Optical Flow"
   ]
  },
  {
   "cell_type": "code",
   "execution_count": 4,
   "metadata": {},
   "outputs": [],
   "source": [
    "cap = cv2.VideoCapture('./Section9Images/Walking.avi')\n",
    "\n",
    "ret, first_frame = cap.read()\n",
    "\n",
    "previous_gray = cv2.cvtColor(first_frame, cv2.COLOR_BGR2GRAY)\n",
    "\n",
    "hsv = np.zeros_like(first_frame)\n",
    "\n",
    "hsv[...,1] = 255\n",
    "\n",
    "while True :\n",
    "    \n",
    "    ret, frame2 = cap.read()\n",
    "    \n",
    "    next = cv2.cvtColor(frame2,cv2.COLOR_BGR2GRAY)\n",
    "    \n",
    "    flow = cv2.calcOpticalFlowFarneback(previous_gray, next, None, 0.5, 3, 15, 3, 5, 1.2, 0)\n",
    "    \n",
    "    magnitude, angle = cv2.cartToPolar(flow[...,0], flow[...,1])\n",
    "    \n",
    "    hsv[...,0] = angle * (180 / (np.pi/2))\n",
    "    \n",
    "    hsv[...,2] = cv2.normalize(magnitude, None, 0, 255, cv2.NORM_MINMAX)\n",
    "    \n",
    "    final = cv2.cvtColor(hsv, cv2.COLOR_HSV2BGR)\n",
    "\n",
    "    cv2.imshow('Dense Optical Flow', final)\n",
    "    \n",
    "    if cv2.waitKey(1) == 13 :\n",
    "        \n",
    "        break\n",
    "    \n",
    "    previous_gray = next\n",
    "\n",
    "cap.release()\n",
    "\n",
    "cv2.destroyAllWindows()"
   ]
  }
 ],
 "metadata": {
  "kernelspec": {
   "display_name": "Python 3",
   "language": "python",
   "name": "python3"
  },
  "language_info": {
   "codemirror_mode": {
    "name": "ipython",
    "version": 3
   },
   "file_extension": ".py",
   "mimetype": "text/x-python",
   "name": "python",
   "nbconvert_exporter": "python",
   "pygments_lexer": "ipython3",
   "version": "3.7.6"
  }
 },
 "nbformat": 4,
 "nbformat_minor": 4
}
