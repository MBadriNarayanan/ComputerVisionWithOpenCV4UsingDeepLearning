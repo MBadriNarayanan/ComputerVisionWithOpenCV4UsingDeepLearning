{
 "cells": [
  {
   "cell_type": "code",
   "execution_count": 1,
   "metadata": {},
   "outputs": [],
   "source": [
    "import numpy as np\n",
    "\n",
    "import cv2\n",
    "\n",
    "import matplotlib.pyplot as plt"
   ]
  },
  {
   "cell_type": "code",
   "execution_count": 2,
   "metadata": {},
   "outputs": [],
   "source": [
    "cap = cv2.VideoCapture(0)\n",
    "\n",
    "lower_purple = np.array([125,0,0])\n",
    "\n",
    "upper_purple = np.array([175,255,255])\n",
    "\n",
    "while True :\n",
    "\n",
    "    ret, frame = cap.read()\n",
    "    \n",
    "    hsv_img = cv2.cvtColor(frame, cv2.COLOR_BGR2HSV)\n",
    "    \n",
    "    mask = cv2.inRange(hsv_img, lower_purple, upper_purple)\n",
    "    \n",
    "    res = cv2.bitwise_and(frame, frame, mask = mask)\n",
    "\n",
    "    cv2.imshow('Original', frame)  \n",
    "    \n",
    "    cv2.imshow('Mask', mask)\n",
    "    \n",
    "    cv2.imshow('Filtered Color Only', res)\n",
    "    \n",
    "    if cv2.waitKey(1) == 13 :\n",
    "        \n",
    "        break\n",
    "        \n",
    "cap.release()\n",
    "\n",
    "cv2.destroyAllWindows()"
   ]
  },
  {
   "cell_type": "code",
   "execution_count": null,
   "metadata": {},
   "outputs": [],
   "source": []
  }
 ],
 "metadata": {
  "kernelspec": {
   "display_name": "Python 3",
   "language": "python",
   "name": "python3"
  },
  "language_info": {
   "codemirror_mode": {
    "name": "ipython",
    "version": 3
   },
   "file_extension": ".py",
   "mimetype": "text/x-python",
   "name": "python",
   "nbconvert_exporter": "python",
   "pygments_lexer": "ipython3",
   "version": "3.7.6"
  }
 },
 "nbformat": 4,
 "nbformat_minor": 4
}
